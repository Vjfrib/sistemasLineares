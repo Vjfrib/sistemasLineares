{
  "nbformat": 4,
  "nbformat_minor": 0,
  "metadata": {
    "colab": {
      "provenance": [],
      "authorship_tag": "ABX9TyO4FCgHhpDu0WrxnCbirHOP",
      "include_colab_link": true
    },
    "kernelspec": {
      "name": "python3",
      "display_name": "Python 3"
    },
    "language_info": {
      "name": "python"
    }
  },
  "cells": [
    {
      "cell_type": "markdown",
      "metadata": {
        "id": "view-in-github",
        "colab_type": "text"
      },
      "source": [
        "<a href=\"https://colab.research.google.com/github/Vjfrib/sistemasLineares/blob/main/Implementa%C3%A7%C3%B5es_em_Sinais_e_Sistemas_2023_2.ipynb\" target=\"_parent\"><img src=\"https://colab.research.google.com/assets/colab-badge.svg\" alt=\"Open In Colab\"/></a>"
      ]
    },
    {
      "cell_type": "markdown",
      "source": [
        "# Implementação de Sinais e Sistemas\n",
        "\n",
        "##  Semestre 2023.2, Prof. Diego Rátiva\n",
        "\n",
        "### Alunos:\n",
        "\n",
        "- Gabriel Calabrese\n",
        "- Vinicius Ribeiro\n"
      ],
      "metadata": {
        "id": "x7UASQkDhc87"
      }
    },
    {
      "cell_type": "markdown",
      "source": [
        "Resultado da questão 5.63, dos exercícios Complementares."
      ],
      "metadata": {
        "id": "Covp058Chxk_"
      }
    },
    {
      "cell_type": "code",
      "source": [
        "print(\"teste\")"
      ],
      "metadata": {
        "id": "QZSyqu2zh9Qd"
      },
      "execution_count": null,
      "outputs": []
    },
    {
      "cell_type": "markdown",
      "source": [
        "Execução da do prerequisito: Questão 5.10"
      ],
      "metadata": {
        "id": "L-xnmjG8iBDr"
      }
    },
    {
      "cell_type": "code",
      "source": [
        "print(\"Hello World\")"
      ],
      "metadata": {
        "id": "Tg_frcTPiHj4"
      },
      "execution_count": null,
      "outputs": []
    },
    {
      "cell_type": "markdown",
      "source": [
        "Fórmulas:\n",
        "\n",
        "$$ x = 3 $$\n",
        "\n",
        "---"
      ],
      "metadata": {
        "id": "D74iSxJWiKS4"
      }
    }
  ]
}