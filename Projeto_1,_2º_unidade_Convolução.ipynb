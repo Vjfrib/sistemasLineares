{
  "nbformat": 4,
  "nbformat_minor": 0,
  "metadata": {
    "colab": {
      "provenance": [],
      "authorship_tag": "ABX9TyNm1dH/rcI6FJ4Kqrn330kO",
      "include_colab_link": true
    },
    "kernelspec": {
      "name": "python3",
      "display_name": "Python 3"
    },
    "language_info": {
      "name": "python"
    }
  },
  "cells": [
    {
      "cell_type": "markdown",
      "metadata": {
        "id": "view-in-github",
        "colab_type": "text"
      },
      "source": [
        "<a href=\"https://colab.research.google.com/github/Vjfrib/sistemasLineares/blob/main/Projeto_1%2C_2%C2%BA_unidade_Convolu%C3%A7%C3%A3o.ipynb\" target=\"_parent\"><img src=\"https://colab.research.google.com/assets/colab-badge.svg\" alt=\"Open In Colab\"/></a>"
      ]
    },
    {
      "cell_type": "markdown",
      "source": [
        "# Reprodução do Experimento sobre Convolução\n",
        "\n",
        "Entrega - 13/12/2023, 10:30. Semestre 2023.2\n",
        "\n",
        "Alunos:\n",
        "- Gabriel Calabrese\n",
        "- Vinícius José\n",
        "\n",
        "Professor:\n",
        "- Diego Rátiva"
      ],
      "metadata": {
        "id": "Phu6dt7RBvKr"
      }
    },
    {
      "cell_type": "markdown",
      "source": [
        "# Base do Experimeto\n",
        "\n",
        "- [Repo](https://github.com/Vjfrib/ProcesamientoDatos/tree/master/Scripts)\n",
        "- [Vídeo](https://www.youtube.com/watch?v=y7tFFa3poe4)"
      ],
      "metadata": {
        "id": "quCsJT_xCV19"
      }
    },
    {
      "cell_type": "markdown",
      "source": [
        "# Sugestões do professor\n",
        "\n",
        "1. Comente cada linha de código no próprio texto do código, e no video.\n",
        "2. Explore modificar os valores do Kernel de Convolução.\n",
        "\t- Colocar um Kernel maior (Mais longo, com um vetor maior)\n",
        "\t- Seria possivel colocar um Kernel com formato Gaussiano? Se sim implemente um simples e veja a diferença com o kernel media."
      ],
      "metadata": {
        "id": "IMQ6T0d9DoSZ"
      }
    },
    {
      "cell_type": "markdown",
      "source": [],
      "metadata": {
        "id": "Fw3ccjusCL0R"
      }
    }
  ]
}