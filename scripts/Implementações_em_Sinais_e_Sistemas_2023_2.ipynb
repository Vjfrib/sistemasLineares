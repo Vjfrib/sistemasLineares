{
  "nbformat": 4,
  "nbformat_minor": 0,
  "metadata": {
    "colab": {
      "provenance": [],
      "include_colab_link": true
    },
    "kernelspec": {
      "name": "python3",
      "display_name": "Python 3"
    },
    "language_info": {
      "name": "python"
    }
  },
  "cells": [
    {
      "cell_type": "markdown",
      "metadata": {
        "id": "view-in-github",
        "colab_type": "text"
      },
      "source": [
        "<a href=\"https://colab.research.google.com/github/Vjfrib/sistemasLineares/blob/main/Implementa%C3%A7%C3%B5es_em_Sinais_e_Sistemas_2023_2.ipynb\" target=\"_parent\"><img src=\"https://colab.research.google.com/assets/colab-badge.svg\" alt=\"Open In Colab\"/></a>"
      ]
    },
    {
      "cell_type": "markdown",
      "source": [
        "# Implementação de Sinais e Sistemas\n",
        "\n",
        "##  Semestre 2023.2, Prof. Diego Rátiva\n",
        "\n",
        "### Alunos:\n",
        "\n",
        "- Gabriel Calabrese\n",
        "- Vinicius Ribeiro\n"
      ],
      "metadata": {
        "id": "x7UASQkDhc87"
      }
    },
    {
      "cell_type": "markdown",
      "source": [
        "## Ambiente:"
      ],
      "metadata": {
        "id": "iPFztwFVl1B3"
      }
    },
    {
      "cell_type": "code",
      "source": [
        "!pip install numpy\n",
        "!pip install matplotlib\n",
        "!pip install scipy\n",
        "!pip install celluloid\n",
        "!pip install IPython\n"
      ],
      "metadata": {
        "id": "ty3YSXhxl4JL"
      },
      "execution_count": null,
      "outputs": []
    },
    {
      "cell_type": "markdown",
      "source": [
        "## Resultado da questão 5.63, dos exercícios Complementares."
      ],
      "metadata": {
        "id": "Covp058Chxk_"
      }
    },
    {
      "cell_type": "markdown",
      "source": [
        "Fórmula:\n",
        "<!-- Em Latex -->\n",
        "$$x(t) = -\\frac{\\pi}{2} \\sum_{k=1,3,5,...}^{\\infty} \\frac{1}{k^2} \\sin\\left(\\frac{2k\\pi }{T₀} t\\right)$$\n",
        "\n",
        "---\n",
        "- x(t): A série de Fourier com funções trigonométricas.\n",
        "- ω: A frequência angular, onde ω = 2π/T₀.\n",
        "- t: A variável temporal representada pelo eixo x no código.\n",
        "- k: Números ímpares, representados pela variável m no código.\n",
        "- T₀ : Período, ou Tamanho do ciclo, representado pela variável L no código.\n",
        "\n",
        "A constante multiplicativa 2/π ajusta a AMPLITUDE da série. O sinal positivo ou ngativo influencia na partida da onda.\n"
      ],
      "metadata": {
        "id": "D74iSxJWiKS4"
      }
    },
    {
      "cell_type": "code",
      "source": [
        "import numpy as np # Operações matemáticas e funções prontas para estas operações\n",
        "import matplotlib.pyplot as plt # Criação de gráficos e visualizações de dados em geral\n",
        "from scipy import signal # fornece uma manipulação conveniente e rápida de um array N-dimensional\n",
        "from celluloid import Camera # Realizar animações\n",
        "from IPython.display import HTML # Plota as animações no collab\n",
        "\n",
        "plt.style.use('ggplot') # Estilo do gráfico\n",
        "\n",
        "# x -> Parâmetro espacial (de onde vemos a função) -> Coordenadas\n",
        "# n -> Número de iterações\n",
        "def fourier_onda_quadrada(x,n):\n",
        "    w = (2*np.pi)/L\n",
        "    m = n # m possui somente números impares\n",
        "    f =  -(2/np.pi)*(1/m)*np.sin(m*w*x) # Função de Fourier\n",
        "    return f\n",
        "\n",
        "# Criar figura\n",
        "fig = plt.figure()\n",
        "camera = Camera(fig) #camera virtual para tirarmos os prints e animar\n",
        "\n",
        "L = (np.pi) # Tamanho do ciclo\n",
        "ciclos = 3 # Quantidade de ciclos da onda\n",
        "x = np.linspace(0, ciclos*L, 1000) # cria uma sequencia de números uniformemente espaçados entre os limites dados\n",
        "\n",
        "# Variáveis\n",
        "f = 1 # Primeiro valor da Série de Fourier\n",
        "n = 1 # Primeiro valor da iteração\n",
        "n_total = 100# Total de iterações\n",
        "\n",
        "# Somatório\n",
        "while n<n_total:\n",
        "    f += fourier_onda_quadrada(x, n) # Somar valor ao valor anterior de f\n",
        "    plt.plot(x, f, c='tab:orange') # Traçar imagem\n",
        "    camera.snap() # Tirar foto de cada iteração\n",
        "    n += 1 # Soma 1 ao valor anterior de n\n",
        "\n",
        "#plt.plot(x,signal.square(x), color='k') # Cria um gráfico de linhas\n",
        "animation = camera.animate() # Criar animação\n",
        "#animation.save('fourier_sin.gif') # Salvar animação\n",
        "HTML(animation.to_jshtml()) # Plota no output do Colab"
      ],
      "metadata": {
        "id": "QZSyqu2zh9Qd"
      },
      "execution_count": null,
      "outputs": []
    },
    {
      "cell_type": "markdown",
      "source": [
        "> Quanto mais soma, menos ondulada / cerrilhada se torna.\n",
        "<!-- Assim como o delta de Paul Dirac? -->"
      ],
      "metadata": {
        "id": "9QtFNuuLxkc6"
      }
    },
    {
      "cell_type": "markdown",
      "source": [
        "## Execução da do prerequisito: Questão 5.10"
      ],
      "metadata": {
        "id": "L-xnmjG8iBDr"
      }
    },
    {
      "cell_type": "markdown",
      "source": [
        "Fórmula:\n",
        "\n",
        "$$\n",
        "x(t) = +\\frac{2}{\\pi} \\sum_{k=1,3,5,...}^{\\infty} \\frac{1}{k} \\sin\\left(\\frac{2k\\pi }{T₀} t\\right)\n",
        "$$\n",
        "\n",
        "---\n",
        "Note que o sinal está invertido, na constante"
      ],
      "metadata": {
        "id": "BnAVVkO4tifS"
      }
    },
    {
      "cell_type": "code",
      "source": [
        "import numpy as np\n",
        "import matplotlib.pyplot as plt\n",
        "from scipy import signal\n",
        "from celluloid import Camera\n",
        "from IPython.display import HTML\n",
        "\n",
        "plt.style.use('ggplot')\n",
        "\n",
        "def fourier_onda_quadrada(x, n):\n",
        "    w = (2 * np.pi) / L\n",
        "    m = n\n",
        "    # Invertendo o sinal aqui, de \"-\" para \"+\"\n",
        "    f = +(2 / np.pi) * (1 / m) * np.sin(m * w * x)\n",
        "    return f\n",
        "\n",
        "fig = plt.figure()\n",
        "camera = Camera(fig)\n",
        "\n",
        "L = np.pi\n",
        "ciclos = 3\n",
        "x = np.linspace(0, ciclos * L, 1000)\n",
        "\n",
        "f = 1\n",
        "n = 1\n",
        "n_total = 100\n",
        "while n < n_total:\n",
        "    # Alterando o sinal de adição para subtração\n",
        "    f += fourier_onda_quadrada(x, n)\n",
        "    plt.plot(x, f, c='tab:orange')\n",
        "    camera.snap()\n",
        "    n += 1\n",
        "\n",
        "animation = camera.animate()\n",
        "#animation.save('fourier_sin.gif')\n",
        "HTML(animation.to_jshtml())\n",
        "\n"
      ],
      "metadata": {
        "id": "Tg_frcTPiHj4"
      },
      "execution_count": null,
      "outputs": []
    }
  ]
}